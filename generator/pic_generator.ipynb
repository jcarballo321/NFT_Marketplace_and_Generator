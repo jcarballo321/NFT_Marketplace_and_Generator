{
 "cells": [
  {
   "cell_type": "code",
   "execution_count": null,
   "id": "944790a6",
   "metadata": {},
   "outputs": [],
   "source": [
    "from PIL import Image\n",
    "from IPython.display import display\n",
    "import random\n",
    "import json"
   ]
  },
  {
   "cell_type": "code",
   "execution_count": null,
   "id": "067f1e3d",
   "metadata": {},
   "outputs": [],
   "source": [
    "#Defining the different traits of each picture\n",
    "#Setting the weights of each category\n",
    "\n",
    "background = [\"Blue\", \"Orange\"]\n",
    "background_weights = [30,15]\n",
    "\n",
    "circle = [\"Blue\", \"Orange\"]\n",
    "circle_weights = [30,15]\n",
    "\n",
    "square = [\"Blue\", \"Orange\"]\n",
    "square_weights = [30,15]\n",
    "\n",
    "\n",
    "#Creating dictionary variables for the traits\n",
    "\n",
    "background_files = { \n",
    "    \"Blue\" : \"blue\",\n",
    "    \"Orange\" : \"orange\",\n",
    "}\n",
    "\n",
    "square_files = {\n",
    "    \"Blue\" : \"blue-square\",\n",
    "    \"Orange\" : \"orange-square\",\n",
    "}\n",
    "\n",
    "circle_files = {\n",
    "    \"Blue\" : \"blue-circle\",\n",
    "    \"Orange\" : \"orange-circle\",\n",
    "}"
   ]
  },
  {
   "cell_type": "code",
   "execution_count": 3,
   "id": "cea12b3d",
   "metadata": {},
   "outputs": [],
   "source": [
    "#The number of images that will be generated each time you run the code.\n",
    "\n",
    "TOTAL_IMAGES = 5\n",
    "\n",
    "all_images = []\n",
    "\n",
    "def create_new_image():\n",
    "    new_image = {}\n",
    "    \n",
    "    #For each feature category, select a random feature according to the weight\n",
    "    new_image [\"Background\"] = random.choices(background, background_weights)[0]\n",
    "    new_image [\"Circle\"] = random.choices(circle, circle_weights)[0]\n",
    "    new_image [\"Square\"] = random.choices(square, square_weights)[0]\n",
    "\n",
    "    if new_image in all_images:\n",
    "        return create_new_image()\n",
    "    else:\n",
    "        return new_image\n",
    "    \n",
    "for i in range(TOTAL_IMAGES):\n",
    "    new_trait_image = create_new_image()\n",
    "    all_images.append(new_trait_image)"
   ]
  },
  {
   "cell_type": "code",
   "execution_count": 4,
   "id": "c27d4f6c",
   "metadata": {},
   "outputs": [
    {
     "name": "stdout",
     "output_type": "stream",
     "text": [
      "Are all images unique? True\n"
     ]
    }
   ],
   "source": [
    "#Ensure each image is unique\n",
    "\n",
    "def all_images_unique(all_images):\n",
    "    seen = list()\n",
    "    return not any(i in seen or seen.append(i) for i in all_images)\n",
    "\n",
    "print(\"Are all images unique?\", all_images_unique(all_images))"
   ]
  },
  {
   "cell_type": "code",
   "execution_count": 5,
   "id": "0258d483",
   "metadata": {},
   "outputs": [],
   "source": [
    "i = 0\n",
    "for item in all_images:\n",
    "    item[\"tokenId\"] = i\n",
    "    i = i + 1\n"
   ]
  },
  {
   "cell_type": "code",
   "execution_count": 6,
   "id": "fd913c1c",
   "metadata": {},
   "outputs": [
    {
     "name": "stdout",
     "output_type": "stream",
     "text": [
      "[{'Background': 'Orange', 'Circle': 'Blue', 'Square': 'Blue', 'tokenId': 0}, {'Background': 'Orange', 'Circle': 'Blue', 'Square': 'Orange', 'tokenId': 1}, {'Background': 'Orange', 'Circle': 'Orange', 'Square': 'Blue', 'tokenId': 2}, {'Background': 'Blue', 'Circle': 'Blue', 'Square': 'Blue', 'tokenId': 3}, {'Background': 'Blue', 'Circle': 'Orange', 'Square': 'Blue', 'tokenId': 4}]\n"
     ]
    }
   ],
   "source": [
    "print(all_images)"
   ]
  },
  {
   "cell_type": "code",
   "execution_count": 7,
   "id": "91187c09",
   "metadata": {},
   "outputs": [
    {
     "name": "stdout",
     "output_type": "stream",
     "text": [
      "{'Blue': 2, 'Orange': 3}\n",
      "{'Blue': 3, 'Orange': 2}\n",
      "{'Blue': 4, 'Orange': 1}\n"
     ]
    }
   ],
   "source": [
    "background_count = {}\n",
    "for item in background:\n",
    "    background_count[item] = 0\n",
    "    \n",
    "circle_count = {}\n",
    "for item in circle:\n",
    "    circle_count[item] = 0\n",
    "    \n",
    "square_count = {}\n",
    "for item in square:\n",
    "    square_count[item] = 0\n",
    "    \n",
    "for image in all_images:\n",
    "    background_count[image[\"Background\"]] += 1\n",
    "    circle_count[image[\"Circle\"]] += 1\n",
    "    square_count[image[\"Square\"]] += 1\n",
    "    \n",
    "print(background_count)\n",
    "print(circle_count)\n",
    "print(square_count)"
   ]
  },
  {
   "cell_type": "code",
   "execution_count": 8,
   "id": "b5a929ec",
   "metadata": {},
   "outputs": [],
   "source": [
    "#Generates the metadata of each trait\n",
    "METADATA_FILE_NAME = \"./metadata/all-traits.json\";\n",
    "with open(METADATA_FILE_NAME, 'w') as outfile:\n",
    "    json.dump(all_images,outfile,indent=4)"
   ]
  },
  {
   "cell_type": "code",
   "execution_count": 9,
   "id": "6bd11ee9",
   "metadata": {},
   "outputs": [],
   "source": [
    "for item in all_images:\n",
    "    \n",
    "    im1 = Image.open(f'./images/backgrounds/{background_files[item[\"Background\"]]}.jpg').convert('RGBA')\n",
    "    im2 = Image.open(f'./images/shapes/circles/{circle_files[item[\"Circle\"]]}.png').convert('RGBA')\n",
    "    im3 = Image.open(f'./images/shapes/squares/{square_files[item[\"Square\"]]}.png').convert('RGBA')\n",
    "   \n",
    "    #Create each composite uniquely\n",
    "    com1 = Image.alpha_composite(im1, im2)\n",
    "    com2 = Image.alpha_composite(com1, im3)\n",
    "    \n",
    "    #Convert to RGB\n",
    "    rgb_im = com2.convert(\"RGB\")\n",
    "    file_name = str(item['tokenId']) + \".png\"\n",
    "    rgb_im.save(\"./images/\" + file_name)"
   ]
  },
  {
   "cell_type": "code",
   "execution_count": 10,
   "id": "b240f4e0",
   "metadata": {},
   "outputs": [],
   "source": [
    "#Generates and saves the metadata for each image\n",
    "\n",
    "f = open('./metadata/all-traits.json',)\n",
    "data = json.load(f)\n",
    "\n",
    "IMAGES_BASE_URI = \"ADD_IMAGES_BASE_URI_HERE\"\n",
    "PROJECT_NAME = \"Project 3 - NFT\"\n",
    "\n",
    "def getAttribute(key, value):\n",
    "    return {\n",
    "        \"trait_type\": key,\n",
    "        \"value\": value\n",
    "    }\n",
    "for i in data:\n",
    "    token_id = i['tokenId']\n",
    "    token = {\n",
    "        \"image\": IMAGES_BASE_URI + str(token_id) +'.png',\n",
    "        \"tokenId\": token_id,\n",
    "        \"name\": PROJECT_NAME + '' + str(token_id),\n",
    "        \"attributes\": []\n",
    "    }\n",
    "    token[\"attributes\"].append(getAttribute(\"Background\", i[\"Background\"]))\n",
    "    token[\"attributes\"].append(getAttribute(\"Circle\", i[\"Circle\"]))\n",
    "    token[\"attributes\"].append(getAttribute(\"Square\", i[\"Square\"]))\n",
    "\n",
    "    with open('./metadata/' + str(token_id),'w') as outfile:\n",
    "        json.dump(token, outfile, indent=4)\n",
    "f.close()"
   ]
  },
  {
   "cell_type": "code",
   "execution_count": null,
   "id": "14b305f5",
   "metadata": {},
   "outputs": [],
   "source": []
  }
 ],
 "metadata": {
  "kernelspec": {
   "display_name": "Python 3",
   "language": "python",
   "name": "python3"
  },
  "language_info": {
   "codemirror_mode": {
    "name": "ipython",
    "version": 3
   },
   "file_extension": ".py",
   "mimetype": "text/x-python",
   "name": "python",
   "nbconvert_exporter": "python",
   "pygments_lexer": "ipython3",
   "version": "3.8.10"
  }
 },
 "nbformat": 4,
 "nbformat_minor": 5
}
